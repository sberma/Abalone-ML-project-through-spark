{
 "cells": [
  {
   "cell_type": "markdown",
   "metadata": {},
   "source": [
    "# This dataset has been downloaded from UCI "
   ]
  },
  {
   "cell_type": "code",
   "execution_count": 38,
   "metadata": {},
   "outputs": [],
   "source": [
    "import numpy as np\n",
    "import pandas as pd\n",
    "import matplotlib.pyplot as plt\n",
    "%matplotlib inline\n",
    "from sklearn.model_selection import train_test_split\n",
    "from sklearn.ensemble import RandomForestClassifier\n",
    "from sklearn.preprocessing import LabelEncoder\n",
    "from sklearn.model_selection import GridSearchCV\n",
    "from sklearn.metrics import mean_squared_erro\n",
    "from sklearn.metrics import plot_precision_recall_curve\n",
    "from sklearn.metrics import precision_recall_curve\n",
    "from sklearn.metrics import plot_roc_curve\n",
    "from sklearn.metrics import precision_score\n",
    "from sklearn.metrics import recall_score\n",
    "from sklearn.metrics import accuracy_score\n"
   ]
  },
  {
   "cell_type": "code",
   "execution_count": 39,
   "metadata": {},
   "outputs": [],
   "source": [
    "df=pd.read_csv('abalone.csv')"
   ]
  },
  {
   "cell_type": "code",
   "execution_count": 40,
   "metadata": {},
   "outputs": [
    {
     "data": {
      "text/html": [
       "<div>\n",
       "<style scoped>\n",
       "    .dataframe tbody tr th:only-of-type {\n",
       "        vertical-align: middle;\n",
       "    }\n",
       "\n",
       "    .dataframe tbody tr th {\n",
       "        vertical-align: top;\n",
       "    }\n",
       "\n",
       "    .dataframe thead th {\n",
       "        text-align: right;\n",
       "    }\n",
       "</style>\n",
       "<table border=\"1\" class=\"dataframe\">\n",
       "  <thead>\n",
       "    <tr style=\"text-align: right;\">\n",
       "      <th></th>\n",
       "      <th>Sex</th>\n",
       "      <th>Length</th>\n",
       "      <th>Diameter</th>\n",
       "      <th>Height</th>\n",
       "      <th>Whole weight</th>\n",
       "      <th>Shucked weight</th>\n",
       "      <th>Viscera weightShell weight</th>\n",
       "      <th>Shell weight</th>\n",
       "      <th>Rings</th>\n",
       "    </tr>\n",
       "  </thead>\n",
       "  <tbody>\n",
       "    <tr>\n",
       "      <th>0</th>\n",
       "      <td>M</td>\n",
       "      <td>0.455</td>\n",
       "      <td>0.365</td>\n",
       "      <td>0.095</td>\n",
       "      <td>0.5140</td>\n",
       "      <td>0.2245</td>\n",
       "      <td>0.1010</td>\n",
       "      <td>0.150</td>\n",
       "      <td>15.0</td>\n",
       "    </tr>\n",
       "    <tr>\n",
       "      <th>1</th>\n",
       "      <td>M</td>\n",
       "      <td>0.350</td>\n",
       "      <td>0.265</td>\n",
       "      <td>0.090</td>\n",
       "      <td>0.2255</td>\n",
       "      <td>0.0995</td>\n",
       "      <td>0.0485</td>\n",
       "      <td>0.070</td>\n",
       "      <td>7.0</td>\n",
       "    </tr>\n",
       "    <tr>\n",
       "      <th>2</th>\n",
       "      <td>F</td>\n",
       "      <td>0.530</td>\n",
       "      <td>0.420</td>\n",
       "      <td>0.135</td>\n",
       "      <td>0.6770</td>\n",
       "      <td>0.2565</td>\n",
       "      <td>0.1415</td>\n",
       "      <td>0.210</td>\n",
       "      <td>9.0</td>\n",
       "    </tr>\n",
       "    <tr>\n",
       "      <th>3</th>\n",
       "      <td>M</td>\n",
       "      <td>0.440</td>\n",
       "      <td>0.365</td>\n",
       "      <td>0.125</td>\n",
       "      <td>0.5160</td>\n",
       "      <td>0.2155</td>\n",
       "      <td>0.1140</td>\n",
       "      <td>0.155</td>\n",
       "      <td>10.0</td>\n",
       "    </tr>\n",
       "    <tr>\n",
       "      <th>4</th>\n",
       "      <td>I</td>\n",
       "      <td>0.330</td>\n",
       "      <td>0.255</td>\n",
       "      <td>0.080</td>\n",
       "      <td>0.2050</td>\n",
       "      <td>0.0895</td>\n",
       "      <td>0.0395</td>\n",
       "      <td>0.055</td>\n",
       "      <td>7.0</td>\n",
       "    </tr>\n",
       "    <tr>\n",
       "      <th>...</th>\n",
       "      <td>...</td>\n",
       "      <td>...</td>\n",
       "      <td>...</td>\n",
       "      <td>...</td>\n",
       "      <td>...</td>\n",
       "      <td>...</td>\n",
       "      <td>...</td>\n",
       "      <td>...</td>\n",
       "      <td>...</td>\n",
       "    </tr>\n",
       "    <tr>\n",
       "      <th>4174</th>\n",
       "      <td>M</td>\n",
       "      <td>0.600</td>\n",
       "      <td>0.475</td>\n",
       "      <td>0.205</td>\n",
       "      <td>1.1760</td>\n",
       "      <td>0.5255</td>\n",
       "      <td>0.2875</td>\n",
       "      <td>0.308</td>\n",
       "      <td>9.0</td>\n",
       "    </tr>\n",
       "    <tr>\n",
       "      <th>4175</th>\n",
       "      <td>F</td>\n",
       "      <td>0.625</td>\n",
       "      <td>0.485</td>\n",
       "      <td>0.150</td>\n",
       "      <td>1.0945</td>\n",
       "      <td>0.5310</td>\n",
       "      <td>0.2610</td>\n",
       "      <td>0.296</td>\n",
       "      <td>10.0</td>\n",
       "    </tr>\n",
       "    <tr>\n",
       "      <th>4176</th>\n",
       "      <td>M</td>\n",
       "      <td>0.710</td>\n",
       "      <td>0.555</td>\n",
       "      <td>0.195</td>\n",
       "      <td>1.9485</td>\n",
       "      <td>0.9455</td>\n",
       "      <td>0.3765</td>\n",
       "      <td>0.495</td>\n",
       "      <td>12.0</td>\n",
       "    </tr>\n",
       "    <tr>\n",
       "      <th>4177</th>\n",
       "      <td>NaN</td>\n",
       "      <td>NaN</td>\n",
       "      <td>NaN</td>\n",
       "      <td>NaN</td>\n",
       "      <td>NaN</td>\n",
       "      <td>NaN</td>\n",
       "      <td>NaN</td>\n",
       "      <td>NaN</td>\n",
       "      <td>NaN</td>\n",
       "    </tr>\n",
       "    <tr>\n",
       "      <th>4178</th>\n",
       "      <td>NaN</td>\n",
       "      <td>NaN</td>\n",
       "      <td>NaN</td>\n",
       "      <td>NaN</td>\n",
       "      <td>NaN</td>\n",
       "      <td>NaN</td>\n",
       "      <td>NaN</td>\n",
       "      <td>NaN</td>\n",
       "      <td>NaN</td>\n",
       "    </tr>\n",
       "  </tbody>\n",
       "</table>\n",
       "<p>4179 rows × 9 columns</p>\n",
       "</div>"
      ],
      "text/plain": [
       "      Sex  Length  Diameter  Height  Whole weight  Shucked weight  \\\n",
       "0       M   0.455     0.365   0.095        0.5140          0.2245   \n",
       "1       M   0.350     0.265   0.090        0.2255          0.0995   \n",
       "2       F   0.530     0.420   0.135        0.6770          0.2565   \n",
       "3       M   0.440     0.365   0.125        0.5160          0.2155   \n",
       "4       I   0.330     0.255   0.080        0.2050          0.0895   \n",
       "...   ...     ...       ...     ...           ...             ...   \n",
       "4174    M   0.600     0.475   0.205        1.1760          0.5255   \n",
       "4175    F   0.625     0.485   0.150        1.0945          0.5310   \n",
       "4176    M   0.710     0.555   0.195        1.9485          0.9455   \n",
       "4177  NaN     NaN       NaN     NaN           NaN             NaN   \n",
       "4178  NaN     NaN       NaN     NaN           NaN             NaN   \n",
       "\n",
       "      Viscera weightShell weight  Shell weight  Rings  \n",
       "0                         0.1010         0.150   15.0  \n",
       "1                         0.0485         0.070    7.0  \n",
       "2                         0.1415         0.210    9.0  \n",
       "3                         0.1140         0.155   10.0  \n",
       "4                         0.0395         0.055    7.0  \n",
       "...                          ...           ...    ...  \n",
       "4174                      0.2875         0.308    9.0  \n",
       "4175                      0.2610         0.296   10.0  \n",
       "4176                      0.3765         0.495   12.0  \n",
       "4177                         NaN           NaN    NaN  \n",
       "4178                         NaN           NaN    NaN  \n",
       "\n",
       "[4179 rows x 9 columns]"
      ]
     },
     "execution_count": 40,
     "metadata": {},
     "output_type": "execute_result"
    }
   ],
   "source": [
    "df"
   ]
  },
  {
   "cell_type": "code",
   "execution_count": 41,
   "metadata": {},
   "outputs": [
    {
     "data": {
      "text/plain": [
       "(4179, 9)"
      ]
     },
     "execution_count": 41,
     "metadata": {},
     "output_type": "execute_result"
    }
   ],
   "source": [
    "df.shape"
   ]
  },
  {
   "cell_type": "code",
   "execution_count": 42,
   "metadata": {},
   "outputs": [
    {
     "data": {
      "text/html": [
       "<div>\n",
       "<style scoped>\n",
       "    .dataframe tbody tr th:only-of-type {\n",
       "        vertical-align: middle;\n",
       "    }\n",
       "\n",
       "    .dataframe tbody tr th {\n",
       "        vertical-align: top;\n",
       "    }\n",
       "\n",
       "    .dataframe thead th {\n",
       "        text-align: right;\n",
       "    }\n",
       "</style>\n",
       "<table border=\"1\" class=\"dataframe\">\n",
       "  <thead>\n",
       "    <tr style=\"text-align: right;\">\n",
       "      <th></th>\n",
       "      <th>Length</th>\n",
       "      <th>Diameter</th>\n",
       "      <th>Height</th>\n",
       "      <th>Whole weight</th>\n",
       "      <th>Shucked weight</th>\n",
       "      <th>Viscera weightShell weight</th>\n",
       "      <th>Shell weight</th>\n",
       "      <th>Rings</th>\n",
       "    </tr>\n",
       "  </thead>\n",
       "  <tbody>\n",
       "    <tr>\n",
       "      <th>count</th>\n",
       "      <td>4177.000000</td>\n",
       "      <td>4177.000000</td>\n",
       "      <td>4177.000000</td>\n",
       "      <td>4177.000000</td>\n",
       "      <td>4177.000000</td>\n",
       "      <td>4177.000000</td>\n",
       "      <td>4177.000000</td>\n",
       "      <td>4177.000000</td>\n",
       "    </tr>\n",
       "    <tr>\n",
       "      <th>mean</th>\n",
       "      <td>0.523992</td>\n",
       "      <td>0.407881</td>\n",
       "      <td>0.139516</td>\n",
       "      <td>0.828742</td>\n",
       "      <td>0.359367</td>\n",
       "      <td>0.180594</td>\n",
       "      <td>0.238831</td>\n",
       "      <td>9.933684</td>\n",
       "    </tr>\n",
       "    <tr>\n",
       "      <th>std</th>\n",
       "      <td>0.120093</td>\n",
       "      <td>0.099240</td>\n",
       "      <td>0.041827</td>\n",
       "      <td>0.490389</td>\n",
       "      <td>0.221963</td>\n",
       "      <td>0.109614</td>\n",
       "      <td>0.139203</td>\n",
       "      <td>3.224169</td>\n",
       "    </tr>\n",
       "    <tr>\n",
       "      <th>min</th>\n",
       "      <td>0.075000</td>\n",
       "      <td>0.055000</td>\n",
       "      <td>0.000000</td>\n",
       "      <td>0.002000</td>\n",
       "      <td>0.001000</td>\n",
       "      <td>0.000500</td>\n",
       "      <td>0.001500</td>\n",
       "      <td>1.000000</td>\n",
       "    </tr>\n",
       "    <tr>\n",
       "      <th>25%</th>\n",
       "      <td>0.450000</td>\n",
       "      <td>0.350000</td>\n",
       "      <td>0.115000</td>\n",
       "      <td>0.441500</td>\n",
       "      <td>0.186000</td>\n",
       "      <td>0.093500</td>\n",
       "      <td>0.130000</td>\n",
       "      <td>8.000000</td>\n",
       "    </tr>\n",
       "    <tr>\n",
       "      <th>50%</th>\n",
       "      <td>0.545000</td>\n",
       "      <td>0.425000</td>\n",
       "      <td>0.140000</td>\n",
       "      <td>0.799500</td>\n",
       "      <td>0.336000</td>\n",
       "      <td>0.171000</td>\n",
       "      <td>0.234000</td>\n",
       "      <td>9.000000</td>\n",
       "    </tr>\n",
       "    <tr>\n",
       "      <th>75%</th>\n",
       "      <td>0.615000</td>\n",
       "      <td>0.480000</td>\n",
       "      <td>0.165000</td>\n",
       "      <td>1.153000</td>\n",
       "      <td>0.502000</td>\n",
       "      <td>0.253000</td>\n",
       "      <td>0.329000</td>\n",
       "      <td>11.000000</td>\n",
       "    </tr>\n",
       "    <tr>\n",
       "      <th>max</th>\n",
       "      <td>0.815000</td>\n",
       "      <td>0.650000</td>\n",
       "      <td>1.130000</td>\n",
       "      <td>2.825500</td>\n",
       "      <td>1.488000</td>\n",
       "      <td>0.760000</td>\n",
       "      <td>1.005000</td>\n",
       "      <td>29.000000</td>\n",
       "    </tr>\n",
       "  </tbody>\n",
       "</table>\n",
       "</div>"
      ],
      "text/plain": [
       "            Length     Diameter       Height  Whole weight  Shucked weight  \\\n",
       "count  4177.000000  4177.000000  4177.000000   4177.000000     4177.000000   \n",
       "mean      0.523992     0.407881     0.139516      0.828742        0.359367   \n",
       "std       0.120093     0.099240     0.041827      0.490389        0.221963   \n",
       "min       0.075000     0.055000     0.000000      0.002000        0.001000   \n",
       "25%       0.450000     0.350000     0.115000      0.441500        0.186000   \n",
       "50%       0.545000     0.425000     0.140000      0.799500        0.336000   \n",
       "75%       0.615000     0.480000     0.165000      1.153000        0.502000   \n",
       "max       0.815000     0.650000     1.130000      2.825500        1.488000   \n",
       "\n",
       "       Viscera weightShell weight  Shell weight        Rings  \n",
       "count                 4177.000000   4177.000000  4177.000000  \n",
       "mean                     0.180594      0.238831     9.933684  \n",
       "std                      0.109614      0.139203     3.224169  \n",
       "min                      0.000500      0.001500     1.000000  \n",
       "25%                      0.093500      0.130000     8.000000  \n",
       "50%                      0.171000      0.234000     9.000000  \n",
       "75%                      0.253000      0.329000    11.000000  \n",
       "max                      0.760000      1.005000    29.000000  "
      ]
     },
     "execution_count": 42,
     "metadata": {},
     "output_type": "execute_result"
    }
   ],
   "source": [
    "df.describe()"
   ]
  },
  {
   "cell_type": "code",
   "execution_count": 43,
   "metadata": {},
   "outputs": [
    {
     "data": {
      "text/plain": [
       "Sex                           2\n",
       "Length                        2\n",
       "Diameter                      2\n",
       "Height                        2\n",
       "Whole weight                  2\n",
       "Shucked weight                2\n",
       "Viscera weightShell weight    2\n",
       "Shell weight                  2\n",
       "Rings                         2\n",
       "dtype: int64"
      ]
     },
     "execution_count": 43,
     "metadata": {},
     "output_type": "execute_result"
    }
   ],
   "source": [
    "df.isna().sum()"
   ]
  },
  {
   "cell_type": "code",
   "execution_count": 44,
   "metadata": {},
   "outputs": [],
   "source": [
    "data=df.dropna(how='all')"
   ]
  },
  {
   "cell_type": "code",
   "execution_count": 45,
   "metadata": {},
   "outputs": [
    {
     "data": {
      "text/plain": [
       "Sex                           0\n",
       "Length                        0\n",
       "Diameter                      0\n",
       "Height                        0\n",
       "Whole weight                  0\n",
       "Shucked weight                0\n",
       "Viscera weightShell weight    0\n",
       "Shell weight                  0\n",
       "Rings                         0\n",
       "dtype: int64"
      ]
     },
     "execution_count": 45,
     "metadata": {},
     "output_type": "execute_result"
    }
   ],
   "source": [
    "data.isna().sum()"
   ]
  },
  {
   "cell_type": "code",
   "execution_count": 46,
   "metadata": {},
   "outputs": [
    {
     "name": "stdout",
     "output_type": "stream",
     "text": [
      "<class 'pandas.core.frame.DataFrame'>\n",
      "Int64Index: 4177 entries, 0 to 4176\n",
      "Data columns (total 9 columns):\n",
      " #   Column                      Non-Null Count  Dtype  \n",
      "---  ------                      --------------  -----  \n",
      " 0   Sex                         4177 non-null   object \n",
      " 1   Length                      4177 non-null   float64\n",
      " 2   Diameter                    4177 non-null   float64\n",
      " 3   Height                      4177 non-null   float64\n",
      " 4   Whole weight                4177 non-null   float64\n",
      " 5   Shucked weight              4177 non-null   float64\n",
      " 6   Viscera weightShell weight  4177 non-null   float64\n",
      " 7   Shell weight                4177 non-null   float64\n",
      " 8   Rings                       4177 non-null   float64\n",
      "dtypes: float64(8), object(1)\n",
      "memory usage: 326.3+ KB\n"
     ]
    }
   ],
   "source": [
    "data.info()"
   ]
  },
  {
   "cell_type": "code",
   "execution_count": 47,
   "metadata": {},
   "outputs": [
    {
     "data": {
      "text/plain": [
       "0       M\n",
       "1       M\n",
       "2       F\n",
       "3       M\n",
       "4       I\n",
       "       ..\n",
       "4172    F\n",
       "4173    M\n",
       "4174    M\n",
       "4175    F\n",
       "4176    M\n",
       "Name: Sex, Length: 4177, dtype: object"
      ]
     },
     "execution_count": 47,
     "metadata": {},
     "output_type": "execute_result"
    }
   ],
   "source": [
    "data.Sex"
   ]
  },
  {
   "cell_type": "code",
   "execution_count": 48,
   "metadata": {},
   "outputs": [
    {
     "data": {
      "text/html": [
       "<div>\n",
       "<style scoped>\n",
       "    .dataframe tbody tr th:only-of-type {\n",
       "        vertical-align: middle;\n",
       "    }\n",
       "\n",
       "    .dataframe tbody tr th {\n",
       "        vertical-align: top;\n",
       "    }\n",
       "\n",
       "    .dataframe thead th {\n",
       "        text-align: right;\n",
       "    }\n",
       "</style>\n",
       "<table border=\"1\" class=\"dataframe\">\n",
       "  <thead>\n",
       "    <tr style=\"text-align: right;\">\n",
       "      <th></th>\n",
       "      <th>Length</th>\n",
       "      <th>Diameter</th>\n",
       "      <th>Height</th>\n",
       "      <th>Whole weight</th>\n",
       "      <th>Shucked weight</th>\n",
       "      <th>Viscera weightShell weight</th>\n",
       "      <th>Shell weight</th>\n",
       "      <th>Rings</th>\n",
       "    </tr>\n",
       "  </thead>\n",
       "  <tbody>\n",
       "    <tr>\n",
       "      <th>Length</th>\n",
       "      <td>1.000000</td>\n",
       "      <td>0.986812</td>\n",
       "      <td>0.827554</td>\n",
       "      <td>0.925261</td>\n",
       "      <td>0.897914</td>\n",
       "      <td>0.903018</td>\n",
       "      <td>0.897706</td>\n",
       "      <td>0.556720</td>\n",
       "    </tr>\n",
       "    <tr>\n",
       "      <th>Diameter</th>\n",
       "      <td>0.986812</td>\n",
       "      <td>1.000000</td>\n",
       "      <td>0.833684</td>\n",
       "      <td>0.925452</td>\n",
       "      <td>0.893162</td>\n",
       "      <td>0.899724</td>\n",
       "      <td>0.905330</td>\n",
       "      <td>0.574660</td>\n",
       "    </tr>\n",
       "    <tr>\n",
       "      <th>Height</th>\n",
       "      <td>0.827554</td>\n",
       "      <td>0.833684</td>\n",
       "      <td>1.000000</td>\n",
       "      <td>0.819221</td>\n",
       "      <td>0.774972</td>\n",
       "      <td>0.798319</td>\n",
       "      <td>0.817338</td>\n",
       "      <td>0.557467</td>\n",
       "    </tr>\n",
       "    <tr>\n",
       "      <th>Whole weight</th>\n",
       "      <td>0.925261</td>\n",
       "      <td>0.925452</td>\n",
       "      <td>0.819221</td>\n",
       "      <td>1.000000</td>\n",
       "      <td>0.969405</td>\n",
       "      <td>0.966375</td>\n",
       "      <td>0.955355</td>\n",
       "      <td>0.540390</td>\n",
       "    </tr>\n",
       "    <tr>\n",
       "      <th>Shucked weight</th>\n",
       "      <td>0.897914</td>\n",
       "      <td>0.893162</td>\n",
       "      <td>0.774972</td>\n",
       "      <td>0.969405</td>\n",
       "      <td>1.000000</td>\n",
       "      <td>0.931961</td>\n",
       "      <td>0.882617</td>\n",
       "      <td>0.420884</td>\n",
       "    </tr>\n",
       "    <tr>\n",
       "      <th>Viscera weightShell weight</th>\n",
       "      <td>0.903018</td>\n",
       "      <td>0.899724</td>\n",
       "      <td>0.798319</td>\n",
       "      <td>0.966375</td>\n",
       "      <td>0.931961</td>\n",
       "      <td>1.000000</td>\n",
       "      <td>0.907656</td>\n",
       "      <td>0.503819</td>\n",
       "    </tr>\n",
       "    <tr>\n",
       "      <th>Shell weight</th>\n",
       "      <td>0.897706</td>\n",
       "      <td>0.905330</td>\n",
       "      <td>0.817338</td>\n",
       "      <td>0.955355</td>\n",
       "      <td>0.882617</td>\n",
       "      <td>0.907656</td>\n",
       "      <td>1.000000</td>\n",
       "      <td>0.627574</td>\n",
       "    </tr>\n",
       "    <tr>\n",
       "      <th>Rings</th>\n",
       "      <td>0.556720</td>\n",
       "      <td>0.574660</td>\n",
       "      <td>0.557467</td>\n",
       "      <td>0.540390</td>\n",
       "      <td>0.420884</td>\n",
       "      <td>0.503819</td>\n",
       "      <td>0.627574</td>\n",
       "      <td>1.000000</td>\n",
       "    </tr>\n",
       "  </tbody>\n",
       "</table>\n",
       "</div>"
      ],
      "text/plain": [
       "                              Length  Diameter    Height  Whole weight  \\\n",
       "Length                      1.000000  0.986812  0.827554      0.925261   \n",
       "Diameter                    0.986812  1.000000  0.833684      0.925452   \n",
       "Height                      0.827554  0.833684  1.000000      0.819221   \n",
       "Whole weight                0.925261  0.925452  0.819221      1.000000   \n",
       "Shucked weight              0.897914  0.893162  0.774972      0.969405   \n",
       "Viscera weightShell weight  0.903018  0.899724  0.798319      0.966375   \n",
       "Shell weight                0.897706  0.905330  0.817338      0.955355   \n",
       "Rings                       0.556720  0.574660  0.557467      0.540390   \n",
       "\n",
       "                            Shucked weight  Viscera weightShell weight  \\\n",
       "Length                            0.897914                    0.903018   \n",
       "Diameter                          0.893162                    0.899724   \n",
       "Height                            0.774972                    0.798319   \n",
       "Whole weight                      0.969405                    0.966375   \n",
       "Shucked weight                    1.000000                    0.931961   \n",
       "Viscera weightShell weight        0.931961                    1.000000   \n",
       "Shell weight                      0.882617                    0.907656   \n",
       "Rings                             0.420884                    0.503819   \n",
       "\n",
       "                            Shell weight     Rings  \n",
       "Length                          0.897706  0.556720  \n",
       "Diameter                        0.905330  0.574660  \n",
       "Height                          0.817338  0.557467  \n",
       "Whole weight                    0.955355  0.540390  \n",
       "Shucked weight                  0.882617  0.420884  \n",
       "Viscera weightShell weight      0.907656  0.503819  \n",
       "Shell weight                    1.000000  0.627574  \n",
       "Rings                           0.627574  1.000000  "
      ]
     },
     "execution_count": 48,
     "metadata": {},
     "output_type": "execute_result"
    }
   ],
   "source": [
    "data.corr()"
   ]
  },
  {
   "cell_type": "code",
   "execution_count": 49,
   "metadata": {},
   "outputs": [
    {
     "data": {
      "text/html": [
       "<div>\n",
       "<style scoped>\n",
       "    .dataframe tbody tr th:only-of-type {\n",
       "        vertical-align: middle;\n",
       "    }\n",
       "\n",
       "    .dataframe tbody tr th {\n",
       "        vertical-align: top;\n",
       "    }\n",
       "\n",
       "    .dataframe thead th {\n",
       "        text-align: right;\n",
       "    }\n",
       "</style>\n",
       "<table border=\"1\" class=\"dataframe\">\n",
       "  <thead>\n",
       "    <tr style=\"text-align: right;\">\n",
       "      <th></th>\n",
       "      <th>Sex</th>\n",
       "      <th>Length</th>\n",
       "      <th>Diameter</th>\n",
       "      <th>Height</th>\n",
       "      <th>Whole weight</th>\n",
       "      <th>Shucked weight</th>\n",
       "      <th>Viscera weightShell weight</th>\n",
       "      <th>Shell weight</th>\n",
       "      <th>Rings</th>\n",
       "    </tr>\n",
       "  </thead>\n",
       "  <tbody>\n",
       "    <tr>\n",
       "      <th>0</th>\n",
       "      <td>M</td>\n",
       "      <td>0.455</td>\n",
       "      <td>0.365</td>\n",
       "      <td>0.095</td>\n",
       "      <td>0.5140</td>\n",
       "      <td>0.2245</td>\n",
       "      <td>0.1010</td>\n",
       "      <td>0.1500</td>\n",
       "      <td>15.0</td>\n",
       "    </tr>\n",
       "    <tr>\n",
       "      <th>1</th>\n",
       "      <td>M</td>\n",
       "      <td>0.350</td>\n",
       "      <td>0.265</td>\n",
       "      <td>0.090</td>\n",
       "      <td>0.2255</td>\n",
       "      <td>0.0995</td>\n",
       "      <td>0.0485</td>\n",
       "      <td>0.0700</td>\n",
       "      <td>7.0</td>\n",
       "    </tr>\n",
       "    <tr>\n",
       "      <th>2</th>\n",
       "      <td>F</td>\n",
       "      <td>0.530</td>\n",
       "      <td>0.420</td>\n",
       "      <td>0.135</td>\n",
       "      <td>0.6770</td>\n",
       "      <td>0.2565</td>\n",
       "      <td>0.1415</td>\n",
       "      <td>0.2100</td>\n",
       "      <td>9.0</td>\n",
       "    </tr>\n",
       "    <tr>\n",
       "      <th>3</th>\n",
       "      <td>M</td>\n",
       "      <td>0.440</td>\n",
       "      <td>0.365</td>\n",
       "      <td>0.125</td>\n",
       "      <td>0.5160</td>\n",
       "      <td>0.2155</td>\n",
       "      <td>0.1140</td>\n",
       "      <td>0.1550</td>\n",
       "      <td>10.0</td>\n",
       "    </tr>\n",
       "    <tr>\n",
       "      <th>4</th>\n",
       "      <td>I</td>\n",
       "      <td>0.330</td>\n",
       "      <td>0.255</td>\n",
       "      <td>0.080</td>\n",
       "      <td>0.2050</td>\n",
       "      <td>0.0895</td>\n",
       "      <td>0.0395</td>\n",
       "      <td>0.0550</td>\n",
       "      <td>7.0</td>\n",
       "    </tr>\n",
       "    <tr>\n",
       "      <th>...</th>\n",
       "      <td>...</td>\n",
       "      <td>...</td>\n",
       "      <td>...</td>\n",
       "      <td>...</td>\n",
       "      <td>...</td>\n",
       "      <td>...</td>\n",
       "      <td>...</td>\n",
       "      <td>...</td>\n",
       "      <td>...</td>\n",
       "    </tr>\n",
       "    <tr>\n",
       "      <th>4172</th>\n",
       "      <td>F</td>\n",
       "      <td>0.565</td>\n",
       "      <td>0.450</td>\n",
       "      <td>0.165</td>\n",
       "      <td>0.8870</td>\n",
       "      <td>0.3700</td>\n",
       "      <td>0.2390</td>\n",
       "      <td>0.2490</td>\n",
       "      <td>11.0</td>\n",
       "    </tr>\n",
       "    <tr>\n",
       "      <th>4173</th>\n",
       "      <td>M</td>\n",
       "      <td>0.590</td>\n",
       "      <td>0.440</td>\n",
       "      <td>0.135</td>\n",
       "      <td>0.9660</td>\n",
       "      <td>0.4390</td>\n",
       "      <td>0.2145</td>\n",
       "      <td>0.2605</td>\n",
       "      <td>10.0</td>\n",
       "    </tr>\n",
       "    <tr>\n",
       "      <th>4174</th>\n",
       "      <td>M</td>\n",
       "      <td>0.600</td>\n",
       "      <td>0.475</td>\n",
       "      <td>0.205</td>\n",
       "      <td>1.1760</td>\n",
       "      <td>0.5255</td>\n",
       "      <td>0.2875</td>\n",
       "      <td>0.3080</td>\n",
       "      <td>9.0</td>\n",
       "    </tr>\n",
       "    <tr>\n",
       "      <th>4175</th>\n",
       "      <td>F</td>\n",
       "      <td>0.625</td>\n",
       "      <td>0.485</td>\n",
       "      <td>0.150</td>\n",
       "      <td>1.0945</td>\n",
       "      <td>0.5310</td>\n",
       "      <td>0.2610</td>\n",
       "      <td>0.2960</td>\n",
       "      <td>10.0</td>\n",
       "    </tr>\n",
       "    <tr>\n",
       "      <th>4176</th>\n",
       "      <td>M</td>\n",
       "      <td>0.710</td>\n",
       "      <td>0.555</td>\n",
       "      <td>0.195</td>\n",
       "      <td>1.9485</td>\n",
       "      <td>0.9455</td>\n",
       "      <td>0.3765</td>\n",
       "      <td>0.4950</td>\n",
       "      <td>12.0</td>\n",
       "    </tr>\n",
       "  </tbody>\n",
       "</table>\n",
       "<p>4177 rows × 9 columns</p>\n",
       "</div>"
      ],
      "text/plain": [
       "     Sex  Length  Diameter  Height  Whole weight  Shucked weight  \\\n",
       "0      M   0.455     0.365   0.095        0.5140          0.2245   \n",
       "1      M   0.350     0.265   0.090        0.2255          0.0995   \n",
       "2      F   0.530     0.420   0.135        0.6770          0.2565   \n",
       "3      M   0.440     0.365   0.125        0.5160          0.2155   \n",
       "4      I   0.330     0.255   0.080        0.2050          0.0895   \n",
       "...   ..     ...       ...     ...           ...             ...   \n",
       "4172   F   0.565     0.450   0.165        0.8870          0.3700   \n",
       "4173   M   0.590     0.440   0.135        0.9660          0.4390   \n",
       "4174   M   0.600     0.475   0.205        1.1760          0.5255   \n",
       "4175   F   0.625     0.485   0.150        1.0945          0.5310   \n",
       "4176   M   0.710     0.555   0.195        1.9485          0.9455   \n",
       "\n",
       "      Viscera weightShell weight  Shell weight  Rings  \n",
       "0                         0.1010        0.1500   15.0  \n",
       "1                         0.0485        0.0700    7.0  \n",
       "2                         0.1415        0.2100    9.0  \n",
       "3                         0.1140        0.1550   10.0  \n",
       "4                         0.0395        0.0550    7.0  \n",
       "...                          ...           ...    ...  \n",
       "4172                      0.2390        0.2490   11.0  \n",
       "4173                      0.2145        0.2605   10.0  \n",
       "4174                      0.2875        0.3080    9.0  \n",
       "4175                      0.2610        0.2960   10.0  \n",
       "4176                      0.3765        0.4950   12.0  \n",
       "\n",
       "[4177 rows x 9 columns]"
      ]
     },
     "execution_count": 49,
     "metadata": {},
     "output_type": "execute_result"
    }
   ],
   "source": [
    "data.dropna()"
   ]
  },
  {
   "cell_type": "code",
   "execution_count": 50,
   "metadata": {},
   "outputs": [],
   "source": [
    "X = data.drop(['Sex'], axis=1)\n",
    "\n",
    "y = data['Sex']"
   ]
  },
  {
   "cell_type": "code",
   "execution_count": 51,
   "metadata": {},
   "outputs": [],
   "source": [
    "# split data into training and testing sets\n",
    "\n",
    "from sklearn.model_selection import train_test_split\n",
    "\n",
    "X_train, X_test, y_train, y_test = train_test_split(X, y, test_size = 0.2, random_state = 0)"
   ]
  },
  {
   "cell_type": "code",
   "execution_count": 52,
   "metadata": {},
   "outputs": [
    {
     "data": {
      "text/plain": [
       "((3341, 8), (836, 8))"
      ]
     },
     "execution_count": 52,
     "metadata": {},
     "output_type": "execute_result"
    }
   ],
   "source": [
    "# check the shape of X_train and X_test\n",
    "\n",
    "X_train.shape, X_test.shape"
   ]
  },
  {
   "cell_type": "code",
   "execution_count": 53,
   "metadata": {},
   "outputs": [],
   "source": [
    "import category_encoders as ce"
   ]
  },
  {
   "cell_type": "code",
   "execution_count": 54,
   "metadata": {},
   "outputs": [
    {
     "name": "stderr",
     "output_type": "stream",
     "text": [
      "C:\\ProgramData\\Anaconda3\\lib\\site-packages\\category_encoders\\utils.py:21: FutureWarning: is_categorical is deprecated and will be removed in a future version.  Use is_categorical_dtype instead\n",
      "  elif pd.api.types.is_categorical(cols):\n"
     ]
    }
   ],
   "source": [
    "encoder = ce.OrdinalEncoder(cols=['Length','Diameter','Height','Whole weight','Shucked weight','Viscera weightShell weight','Shell weight','Rings'])\n",
    "\n",
    "\n",
    "X_train = encoder.fit_transform(X_train)\n",
    "\n",
    "X_test = encoder.transform(X_test)"
   ]
  },
  {
   "cell_type": "code",
   "execution_count": 55,
   "metadata": {},
   "outputs": [
    {
     "data": {
      "text/html": [
       "<div>\n",
       "<style scoped>\n",
       "    .dataframe tbody tr th:only-of-type {\n",
       "        vertical-align: middle;\n",
       "    }\n",
       "\n",
       "    .dataframe tbody tr th {\n",
       "        vertical-align: top;\n",
       "    }\n",
       "\n",
       "    .dataframe thead th {\n",
       "        text-align: right;\n",
       "    }\n",
       "</style>\n",
       "<table border=\"1\" class=\"dataframe\">\n",
       "  <thead>\n",
       "    <tr style=\"text-align: right;\">\n",
       "      <th></th>\n",
       "      <th>Length</th>\n",
       "      <th>Diameter</th>\n",
       "      <th>Height</th>\n",
       "      <th>Whole weight</th>\n",
       "      <th>Shucked weight</th>\n",
       "      <th>Viscera weightShell weight</th>\n",
       "      <th>Shell weight</th>\n",
       "      <th>Rings</th>\n",
       "    </tr>\n",
       "  </thead>\n",
       "  <tbody>\n",
       "    <tr>\n",
       "      <th>3141</th>\n",
       "      <td>1</td>\n",
       "      <td>1</td>\n",
       "      <td>1</td>\n",
       "      <td>1</td>\n",
       "      <td>1</td>\n",
       "      <td>1</td>\n",
       "      <td>1</td>\n",
       "      <td>1</td>\n",
       "    </tr>\n",
       "    <tr>\n",
       "      <th>3521</th>\n",
       "      <td>2</td>\n",
       "      <td>2</td>\n",
       "      <td>2</td>\n",
       "      <td>2</td>\n",
       "      <td>2</td>\n",
       "      <td>2</td>\n",
       "      <td>2</td>\n",
       "      <td>2</td>\n",
       "    </tr>\n",
       "    <tr>\n",
       "      <th>883</th>\n",
       "      <td>3</td>\n",
       "      <td>3</td>\n",
       "      <td>3</td>\n",
       "      <td>3</td>\n",
       "      <td>3</td>\n",
       "      <td>3</td>\n",
       "      <td>3</td>\n",
       "      <td>3</td>\n",
       "    </tr>\n",
       "    <tr>\n",
       "      <th>3627</th>\n",
       "      <td>4</td>\n",
       "      <td>4</td>\n",
       "      <td>4</td>\n",
       "      <td>4</td>\n",
       "      <td>4</td>\n",
       "      <td>4</td>\n",
       "      <td>4</td>\n",
       "      <td>4</td>\n",
       "    </tr>\n",
       "    <tr>\n",
       "      <th>2106</th>\n",
       "      <td>5</td>\n",
       "      <td>5</td>\n",
       "      <td>5</td>\n",
       "      <td>5</td>\n",
       "      <td>5</td>\n",
       "      <td>5</td>\n",
       "      <td>5</td>\n",
       "      <td>5</td>\n",
       "    </tr>\n",
       "  </tbody>\n",
       "</table>\n",
       "</div>"
      ],
      "text/plain": [
       "      Length  Diameter  Height  Whole weight  Shucked weight  \\\n",
       "3141       1         1       1             1               1   \n",
       "3521       2         2       2             2               2   \n",
       "883        3         3       3             3               3   \n",
       "3627       4         4       4             4               4   \n",
       "2106       5         5       5             5               5   \n",
       "\n",
       "      Viscera weightShell weight  Shell weight  Rings  \n",
       "3141                           1             1      1  \n",
       "3521                           2             2      2  \n",
       "883                            3             3      3  \n",
       "3627                           4             4      4  \n",
       "2106                           5             5      5  "
      ]
     },
     "execution_count": 55,
     "metadata": {},
     "output_type": "execute_result"
    }
   ],
   "source": [
    "X_train.head()"
   ]
  },
  {
   "cell_type": "code",
   "execution_count": 56,
   "metadata": {},
   "outputs": [
    {
     "data": {
      "text/html": [
       "<div>\n",
       "<style scoped>\n",
       "    .dataframe tbody tr th:only-of-type {\n",
       "        vertical-align: middle;\n",
       "    }\n",
       "\n",
       "    .dataframe tbody tr th {\n",
       "        vertical-align: top;\n",
       "    }\n",
       "\n",
       "    .dataframe thead th {\n",
       "        text-align: right;\n",
       "    }\n",
       "</style>\n",
       "<table border=\"1\" class=\"dataframe\">\n",
       "  <thead>\n",
       "    <tr style=\"text-align: right;\">\n",
       "      <th></th>\n",
       "      <th>Length</th>\n",
       "      <th>Diameter</th>\n",
       "      <th>Height</th>\n",
       "      <th>Whole weight</th>\n",
       "      <th>Shucked weight</th>\n",
       "      <th>Viscera weightShell weight</th>\n",
       "      <th>Shell weight</th>\n",
       "      <th>Rings</th>\n",
       "    </tr>\n",
       "  </thead>\n",
       "  <tbody>\n",
       "    <tr>\n",
       "      <th>668</th>\n",
       "      <td>25</td>\n",
       "      <td>53.0</td>\n",
       "      <td>5</td>\n",
       "      <td>916.0</td>\n",
       "      <td>1089.0</td>\n",
       "      <td>309.0</td>\n",
       "      <td>98.0</td>\n",
       "      <td>12.0</td>\n",
       "    </tr>\n",
       "    <tr>\n",
       "      <th>1580</th>\n",
       "      <td>28</td>\n",
       "      <td>27.0</td>\n",
       "      <td>20</td>\n",
       "      <td>1417.0</td>\n",
       "      <td>70.0</td>\n",
       "      <td>619.0</td>\n",
       "      <td>-1.0</td>\n",
       "      <td>11.0</td>\n",
       "    </tr>\n",
       "    <tr>\n",
       "      <th>3784</th>\n",
       "      <td>37</td>\n",
       "      <td>13.0</td>\n",
       "      <td>5</td>\n",
       "      <td>532.0</td>\n",
       "      <td>-1.0</td>\n",
       "      <td>749.0</td>\n",
       "      <td>822.0</td>\n",
       "      <td>6.0</td>\n",
       "    </tr>\n",
       "    <tr>\n",
       "      <th>463</th>\n",
       "      <td>122</td>\n",
       "      <td>104.0</td>\n",
       "      <td>2</td>\n",
       "      <td>890.0</td>\n",
       "      <td>281.0</td>\n",
       "      <td>666.0</td>\n",
       "      <td>45.0</td>\n",
       "      <td>1.0</td>\n",
       "    </tr>\n",
       "    <tr>\n",
       "      <th>2615</th>\n",
       "      <td>38</td>\n",
       "      <td>38.0</td>\n",
       "      <td>31</td>\n",
       "      <td>1183.0</td>\n",
       "      <td>1414.0</td>\n",
       "      <td>-1.0</td>\n",
       "      <td>-1.0</td>\n",
       "      <td>10.0</td>\n",
       "    </tr>\n",
       "  </tbody>\n",
       "</table>\n",
       "</div>"
      ],
      "text/plain": [
       "      Length  Diameter  Height  Whole weight  Shucked weight  \\\n",
       "668       25      53.0       5         916.0          1089.0   \n",
       "1580      28      27.0      20        1417.0            70.0   \n",
       "3784      37      13.0       5         532.0            -1.0   \n",
       "463      122     104.0       2         890.0           281.0   \n",
       "2615      38      38.0      31        1183.0          1414.0   \n",
       "\n",
       "      Viscera weightShell weight  Shell weight  Rings  \n",
       "668                        309.0          98.0   12.0  \n",
       "1580                       619.0          -1.0   11.0  \n",
       "3784                       749.0         822.0    6.0  \n",
       "463                        666.0          45.0    1.0  \n",
       "2615                        -1.0          -1.0   10.0  "
      ]
     },
     "execution_count": 56,
     "metadata": {},
     "output_type": "execute_result"
    }
   ],
   "source": [
    "X_test.head()"
   ]
  },
  {
   "cell_type": "code",
   "execution_count": 57,
   "metadata": {},
   "outputs": [
    {
     "name": "stderr",
     "output_type": "stream",
     "text": [
      "<ipython-input-57-abe17b9a9b3d>:3: SettingWithCopyWarning: \n",
      "A value is trying to be set on a copy of a slice from a DataFrame.\n",
      "Try using .loc[row_indexer,col_indexer] = value instead\n",
      "\n",
      "See the caveats in the documentation: https://pandas.pydata.org/pandas-docs/stable/user_guide/indexing.html#returning-a-view-versus-a-copy\n",
      "  data['Sex'] = sex_label.fit_transform(data['Sex'])\n"
     ]
    },
    {
     "data": {
      "text/html": [
       "<div>\n",
       "<style scoped>\n",
       "    .dataframe tbody tr th:only-of-type {\n",
       "        vertical-align: middle;\n",
       "    }\n",
       "\n",
       "    .dataframe tbody tr th {\n",
       "        vertical-align: top;\n",
       "    }\n",
       "\n",
       "    .dataframe thead th {\n",
       "        text-align: right;\n",
       "    }\n",
       "</style>\n",
       "<table border=\"1\" class=\"dataframe\">\n",
       "  <thead>\n",
       "    <tr style=\"text-align: right;\">\n",
       "      <th></th>\n",
       "      <th>Sex</th>\n",
       "      <th>Length</th>\n",
       "      <th>Diameter</th>\n",
       "      <th>Height</th>\n",
       "      <th>Whole weight</th>\n",
       "      <th>Shucked weight</th>\n",
       "      <th>Viscera weightShell weight</th>\n",
       "      <th>Shell weight</th>\n",
       "      <th>Rings</th>\n",
       "    </tr>\n",
       "  </thead>\n",
       "  <tbody>\n",
       "    <tr>\n",
       "      <th>0</th>\n",
       "      <td>2</td>\n",
       "      <td>0.455</td>\n",
       "      <td>0.365</td>\n",
       "      <td>0.095</td>\n",
       "      <td>0.5140</td>\n",
       "      <td>0.2245</td>\n",
       "      <td>0.1010</td>\n",
       "      <td>0.150</td>\n",
       "      <td>15.0</td>\n",
       "    </tr>\n",
       "    <tr>\n",
       "      <th>1</th>\n",
       "      <td>2</td>\n",
       "      <td>0.350</td>\n",
       "      <td>0.265</td>\n",
       "      <td>0.090</td>\n",
       "      <td>0.2255</td>\n",
       "      <td>0.0995</td>\n",
       "      <td>0.0485</td>\n",
       "      <td>0.070</td>\n",
       "      <td>7.0</td>\n",
       "    </tr>\n",
       "    <tr>\n",
       "      <th>2</th>\n",
       "      <td>0</td>\n",
       "      <td>0.530</td>\n",
       "      <td>0.420</td>\n",
       "      <td>0.135</td>\n",
       "      <td>0.6770</td>\n",
       "      <td>0.2565</td>\n",
       "      <td>0.1415</td>\n",
       "      <td>0.210</td>\n",
       "      <td>9.0</td>\n",
       "    </tr>\n",
       "    <tr>\n",
       "      <th>3</th>\n",
       "      <td>2</td>\n",
       "      <td>0.440</td>\n",
       "      <td>0.365</td>\n",
       "      <td>0.125</td>\n",
       "      <td>0.5160</td>\n",
       "      <td>0.2155</td>\n",
       "      <td>0.1140</td>\n",
       "      <td>0.155</td>\n",
       "      <td>10.0</td>\n",
       "    </tr>\n",
       "    <tr>\n",
       "      <th>4</th>\n",
       "      <td>1</td>\n",
       "      <td>0.330</td>\n",
       "      <td>0.255</td>\n",
       "      <td>0.080</td>\n",
       "      <td>0.2050</td>\n",
       "      <td>0.0895</td>\n",
       "      <td>0.0395</td>\n",
       "      <td>0.055</td>\n",
       "      <td>7.0</td>\n",
       "    </tr>\n",
       "  </tbody>\n",
       "</table>\n",
       "</div>"
      ],
      "text/plain": [
       "   Sex  Length  Diameter  Height  Whole weight  Shucked weight  \\\n",
       "0    2   0.455     0.365   0.095        0.5140          0.2245   \n",
       "1    2   0.350     0.265   0.090        0.2255          0.0995   \n",
       "2    0   0.530     0.420   0.135        0.6770          0.2565   \n",
       "3    2   0.440     0.365   0.125        0.5160          0.2155   \n",
       "4    1   0.330     0.255   0.080        0.2050          0.0895   \n",
       "\n",
       "   Viscera weightShell weight  Shell weight  Rings  \n",
       "0                      0.1010         0.150   15.0  \n",
       "1                      0.0485         0.070    7.0  \n",
       "2                      0.1415         0.210    9.0  \n",
       "3                      0.1140         0.155   10.0  \n",
       "4                      0.0395         0.055    7.0  "
      ]
     },
     "execution_count": 57,
     "metadata": {},
     "output_type": "execute_result"
    }
   ],
   "source": [
    "# convert text labels to integer labels\n",
    "sex_label = LabelEncoder()\n",
    "data['Sex'] = sex_label.fit_transform(data['Sex'])\n",
    "data.head()"
   ]
  },
  {
   "cell_type": "code",
   "execution_count": 58,
   "metadata": {},
   "outputs": [
    {
     "data": {
      "text/plain": [
       "2    1528\n",
       "1    1342\n",
       "0    1307\n",
       "Name: Sex, dtype: int64"
      ]
     },
     "execution_count": 58,
     "metadata": {},
     "output_type": "execute_result"
    }
   ],
   "source": [
    "data['Sex'].value_counts()"
   ]
  },
  {
   "cell_type": "code",
   "execution_count": 59,
   "metadata": {},
   "outputs": [],
   "source": [
    "#scale the features using training set\n",
    "from sklearn.preprocessing import StandardScaler\n",
    "sc = StandardScaler()\n",
    "X_train_scaled = pd.DataFrame(sc.fit_transform(X_train),columns=X.columns)\n",
    "X_test_scaled = pd.DataFrame(sc.transform(X_test),columns=X.columns)"
   ]
  },
  {
   "cell_type": "code",
   "execution_count": 60,
   "metadata": {},
   "outputs": [],
   "source": [
    "#import the model\n",
    "from sklearn.linear_model import LogisticRegression\n",
    "model = LogisticRegression(max_iter=500,tol=0.001)"
   ]
  },
  {
   "cell_type": "code",
   "execution_count": 61,
   "metadata": {},
   "outputs": [
    {
     "data": {
      "text/plain": [
       "LogisticRegression(max_iter=500, tol=0.001)"
      ]
     },
     "execution_count": 61,
     "metadata": {},
     "output_type": "execute_result"
    }
   ],
   "source": [
    "#import Logistic Regression \n",
    "from sklearn.linear_model import LogisticRegression\n",
    "model = LogisticRegression(max_iter=500, tol=0.001)\n",
    "model.fit(X_train_scaled, y_train)"
   ]
  },
  {
   "cell_type": "code",
   "execution_count": 62,
   "metadata": {},
   "outputs": [
    {
     "data": {
      "text/plain": [
       "array([-0.03500734, -0.08173246,  0.1167398 ])"
      ]
     },
     "execution_count": 62,
     "metadata": {},
     "output_type": "execute_result"
    }
   ],
   "source": [
    "model.intercept_"
   ]
  },
  {
   "cell_type": "code",
   "execution_count": 63,
   "metadata": {},
   "outputs": [
    {
     "data": {
      "text/plain": [
       "array([[-8.99289651e-02, -4.81336137e-02,  2.14806260e-03,\n",
       "        -2.12498103e-02,  6.62047031e-02,  5.34963839e-02,\n",
       "        -5.15201072e-02, -7.52537049e-02],\n",
       "       [ 1.76486296e-01,  9.13870430e-02, -2.03998451e-03,\n",
       "         8.86481078e-03, -1.29489402e-01, -9.60937578e-02,\n",
       "         6.95401692e-02,  1.74415376e-01],\n",
       "       [-8.65573310e-02, -4.32534293e-02, -1.08078084e-04,\n",
       "         1.23849995e-02,  6.32846992e-02,  4.25973739e-02,\n",
       "        -1.80200620e-02, -9.91616712e-02]])"
      ]
     },
     "execution_count": 63,
     "metadata": {},
     "output_type": "execute_result"
    }
   ],
   "source": [
    "model.coef_"
   ]
  },
  {
   "cell_type": "code",
   "execution_count": 64,
   "metadata": {},
   "outputs": [
    {
     "data": {
      "text/plain": [
       "0.3923444976076555"
      ]
     },
     "execution_count": 64,
     "metadata": {},
     "output_type": "execute_result"
    }
   ],
   "source": [
    "#Validating the model\n",
    "#Performance measures for classification\n",
    "model.score(X_test_scaled,y_test)"
   ]
  },
  {
   "cell_type": "code",
   "execution_count": 65,
   "metadata": {},
   "outputs": [
    {
     "data": {
      "text/plain": [
       "40.589999999999996"
      ]
     },
     "execution_count": 65,
     "metadata": {},
     "output_type": "execute_result"
    }
   ],
   "source": [
    "#k-fold cross-validation score\n",
    "from sklearn.model_selection import cross_val_score\n",
    "cross_val_score(LogisticRegression(max_iter=1000,tol=0.001),\n",
    "                X_train_scaled, y_train,cv=5).mean().round(4)*100"
   ]
  },
  {
   "cell_type": "code",
   "execution_count": 66,
   "metadata": {},
   "outputs": [],
   "source": [
    "#import the knn model\n",
    "from sklearn.neighbors import KNeighborsClassifier\n",
    "knn = KNeighborsClassifier()"
   ]
  },
  {
   "cell_type": "code",
   "execution_count": 67,
   "metadata": {},
   "outputs": [
    {
     "data": {
      "text/plain": [
       "0.5281286357897863"
      ]
     },
     "execution_count": 67,
     "metadata": {},
     "output_type": "execute_result"
    }
   ],
   "source": [
    "#see the cross_validated score for cv=3\n",
    "from sklearn.model_selection import cross_val_score\n",
    "cross_val_score(knn,X,y,cv=3).mean()"
   ]
  },
  {
   "cell_type": "code",
   "execution_count": 68,
   "metadata": {},
   "outputs": [],
   "source": [
    "#for no.of neighbors from 1 - 10, graph the k-fold scores\n",
    "scores = []\n",
    "for i in range(1,11,1):\n",
    "    knn = KNeighborsClassifier(n_neighbors=i, weights='uniform')\n",
    "    scores.append(cross_val_score(knn,X,y,cv=3).mean())"
   ]
  },
  {
   "cell_type": "code",
   "execution_count": 69,
   "metadata": {},
   "outputs": [
    {
     "data": {
      "image/png": "[encoded data removed]",
      "text/plain": [
       "<Figure size 432x288 with 1 Axes>"
      ]
     },
     "metadata": {
      "needs_background": "light"
     },
     "output_type": "display_data"
    }
   ],
   "source": [
    "import matplotlib.pyplot as plt\n",
    "plt.plot(range(1,11,1),scores)\n",
    "plt.xlabel('no. of neighbors')\n",
    "plt.ylabel('k-fold test scores')\n",
    "plt.show()\n"
   ]
  },
  {
   "cell_type": "markdown",
   "metadata": {},
   "source": [
    "# 7-NN is the best"
   ]
  },
  {
   "cell_type": "code",
   "execution_count": null,
   "metadata": {},
   "outputs": [],
   "source": [
    "#SVM MODEL"
   ]
  },
  {
   "cell_type": "code",
   "execution_count": 70,
   "metadata": {},
   "outputs": [],
   "source": [
    "from sklearn.svm import SVC\n",
    "from sklearn.model_selection import GridSearchCV\n",
    "from sklearn import metrics, svm"
   ]
  },
  {
   "cell_type": "code",
   "execution_count": 71,
   "metadata": {},
   "outputs": [],
   "source": [
    "params_dictionary = {\n",
    "                        'C' : [0.1, 1, 10],\n",
    "                        'kernel': ['linear', 'poly', 'rbf', 'sigmoid'],\n",
    "                        'degree': [2,3],\n",
    "                        'gamma' : [0.1,1,10]\n",
    "                    }\n",
    "\n",
    "model = GridSearchCV(SVC(random_state=0),param_grid=params_dictionary,cv=10)\n"
   ]
  },
  {
   "cell_type": "code",
   "execution_count": 124,
   "metadata": {},
   "outputs": [
    {
     "data": {
      "text/plain": [
       "{'max_depth': 15, 'n_estimators': 130}"
      ]
     },
     "execution_count": 124,
     "metadata": {},
     "output_type": "execute_result"
    }
   ],
   "source": [
    "model.best_params_"
   ]
  },
  {
   "cell_type": "code",
   "execution_count": 126,
   "metadata": {},
   "outputs": [
    {
     "data": {
      "text/plain": [
       "GridSearchCV(cv=10, estimator=RandomForestClassifier(),\n",
       "             param_grid={'max_depth': [13, 14, 15],\n",
       "                         'n_estimators': [100, 110, 120, 130]})"
      ]
     },
     "execution_count": 126,
     "metadata": {},
     "output_type": "execute_result"
    }
   ],
   "source": [
    "model.fit(X,y)"
   ]
  },
  {
   "cell_type": "code",
   "execution_count": 125,
   "metadata": {},
   "outputs": [
    {
     "data": {
      "text/plain": [
       "0.5436858168967219"
      ]
     },
     "execution_count": 125,
     "metadata": {},
     "output_type": "execute_result"
    }
   ],
   "source": [
    "model.best_score_"
   ]
  },
  {
   "cell_type": "code",
   "execution_count": 89,
   "metadata": {},
   "outputs": [],
   "source": [
    "svm =model.best_estimator_"
   ]
  },
  {
   "cell_type": "code",
   "execution_count": 90,
   "metadata": {},
   "outputs": [
    {
     "data": {
      "text/plain": [
       "RandomForestClassifier(max_depth=14, n_estimators=80, random_state=0)"
      ]
     },
     "execution_count": 90,
     "metadata": {},
     "output_type": "execute_result"
    }
   ],
   "source": [
    "svm.fit(X_train,y_train)"
   ]
  },
  {
   "cell_type": "code",
   "execution_count": 91,
   "metadata": {},
   "outputs": [
    {
     "data": {
      "text/plain": [
       "0.5444976076555024"
      ]
     },
     "execution_count": 91,
     "metadata": {},
     "output_type": "execute_result"
    }
   ],
   "source": [
    "svm.score(X_test,y_test)"
   ]
  },
  {
   "cell_type": "markdown",
   "metadata": {},
   "source": [
    "# ADABOOST"
   ]
  },
  {
   "cell_type": "code",
   "execution_count": 107,
   "metadata": {},
   "outputs": [
    {
     "data": {
      "image/png": "[encoded data removed]",
      "text/plain": [
       "<Figure size 432x288 with 1 Axes>"
      ]
     },
     "metadata": {
      "needs_background": "light"
     },
     "output_type": "display_data"
    }
   ],
   "source": [
    "from sklearn.ensemble import AdaBoostClassifier\n",
    "\n",
    "\n",
    "#Graph k-fold score vs no. of estimators in Adaboost which uses DT as base estimators\n",
    "scores = []\n",
    "for i in range(10,110,10):\n",
    "    scores.append(cross_val_score(AdaBoostClassifier(n_estimators=i,random_state=0),\n",
    "                                  X,y,cv=10).mean())\n",
    "plt.plot(range(10,110,10),scores)\n",
    "plt.xlabel('No. of DTs in Adaboost')\n",
    "plt.ylabel('K-fold scores')\n",
    "plt.show()"
   ]
  },
  {
   "cell_type": "code",
   "execution_count": 104,
   "metadata": {},
   "outputs": [
    {
     "data": {
      "text/plain": [
       "GridSearchCV(cv=10, estimator=AdaBoostClassifier(random_state=0),\n",
       "             param_grid={'base_estimator': [DecisionTreeClassifier(max_depth=9,\n",
       "                                                                   random_state=0),\n",
       "                                            DecisionTreeClassifier(max_depth=10,\n",
       "                                                                   random_state=0),\n",
       "                                            DecisionTreeClassifier(max_depth=11,\n",
       "                                                                   random_state=0)],\n",
       "                         'n_estimators': [70, 80, 90, 100]})"
      ]
     },
     "execution_count": 104,
     "metadata": {},
     "output_type": "execute_result"
    }
   ],
   "source": [
    "from sklearn.tree import DecisionTreeClassifier\n",
    "#including other params like max_depth, we will apply gridsearch to fine the best settings \n",
    "params = {\n",
    "            'n_estimators': [70,80,90,100],\n",
    "            'base_estimator': [DecisionTreeClassifier(max_depth=9,random_state=0),\n",
    "                               DecisionTreeClassifier(max_depth=10,random_state=0),\n",
    "                               DecisionTreeClassifier(max_depth=11,random_state=0)]\n",
    "        }\n",
    "model = GridSearchCV(AdaBoostClassifier(random_state=0), params,cv=10)\n",
    "model.fit(X,y)"
   ]
  },
  {
   "cell_type": "code",
   "execution_count": 105,
   "metadata": {},
   "outputs": [
    {
     "data": {
      "text/plain": [
       "{'base_estimator': DecisionTreeClassifier(max_depth=10, random_state=0),\n",
       " 'n_estimators': 80}"
      ]
     },
     "execution_count": 105,
     "metadata": {},
     "output_type": "execute_result"
    }
   ],
   "source": [
    "model.best_params_"
   ]
  },
  {
   "cell_type": "code",
   "execution_count": 106,
   "metadata": {},
   "outputs": [
    {
     "data": {
      "text/plain": [
       "0.5348284052184089"
      ]
     },
     "execution_count": 106,
     "metadata": {},
     "output_type": "execute_result"
    }
   ],
   "source": [
    "model.best_score_"
   ]
  },
  {
   "cell_type": "markdown",
   "metadata": {},
   "source": [
    "# RABDOMFOREST"
   ]
  },
  {
   "cell_type": "code",
   "execution_count": 108,
   "metadata": {},
   "outputs": [],
   "source": [
    "from sklearn.ensemble import RandomForestClassifier\n",
    "from sklearn.model_selection import GridSearchCV\n",
    "from sklearn.model_selection import cross_val_score\n",
    "import matplotlib.pyplot as plt"
   ]
  },
  {
   "cell_type": "code",
   "execution_count": 109,
   "metadata": {},
   "outputs": [],
   "source": [
    "scores = []\n",
    "for i in range(10,101,10):\n",
    "    scores.append(cross_val_score(RandomForestClassifier(n_estimators=i,random_state=9),\n",
    "                                  X,y,cv=4).mean())"
   ]
  },
  {
   "cell_type": "code",
   "execution_count": 110,
   "metadata": {},
   "outputs": [
    {
     "data": {
      "image/png": "[encoded data removed]",
      "text/plain": [
       "<Figure size 432x288 with 1 Axes>"
      ]
     },
     "metadata": {
      "needs_background": "light"
     },
     "output_type": "display_data"
    }
   ],
   "source": [
    "plt.plot(range(10,101,10),scores)\n",
    "plt.xlabel('No. of DTs in RandomForest')\n",
    "plt.ylabel('K-fold scores')\n",
    "plt.show()"
   ]
  },
  {
   "cell_type": "code",
   "execution_count": 112,
   "metadata": {},
   "outputs": [
    {
     "data": {
      "text/plain": [
       "GridSearchCV(cv=10, estimator=RandomForestClassifier(),\n",
       "             param_grid={'max_depth': [13, 14, 15],\n",
       "                         'n_estimators': [100, 110, 120, 130]})"
      ]
     },
     "execution_count": 112,
     "metadata": {},
     "output_type": "execute_result"
    }
   ],
   "source": [
    "params = {\n",
    "            'n_estimators': [100,110,120,130],\n",
    "            'max_depth': [13,14,15]\n",
    "        }\n",
    "model = GridSearchCV(RandomForestClassifier(), params,cv=10)\n",
    "model.fit(X,y)"
   ]
  },
  {
   "cell_type": "code",
   "execution_count": 113,
   "metadata": {},
   "outputs": [
    {
     "data": {
      "text/plain": [
       "{'max_depth': 15, 'n_estimators': 130}"
      ]
     },
     "execution_count": 113,
     "metadata": {},
     "output_type": "execute_result"
    }
   ],
   "source": [
    "model.best_params_"
   ]
  },
  {
   "cell_type": "code",
   "execution_count": 114,
   "metadata": {},
   "outputs": [
    {
     "data": {
      "text/plain": [
       "0.5436858168967219"
      ]
     },
     "execution_count": 114,
     "metadata": {},
     "output_type": "execute_result"
    }
   ],
   "source": [
    "model.best_score_"
   ]
  },
  {
   "cell_type": "code",
   "execution_count": 115,
   "metadata": {},
   "outputs": [],
   "source": [
    "best_model = model.best_estim\n"
   ]
  },
  {
   "cell_type": "code",
   "execution_count": 116,
   "metadata": {},
   "outputs": [],
   "source": [
    "from sklearn.model_selection import train_test_split\n",
    "X_train,X_test,y_train,y_test = train_test_split(X,y,random_state=5)"
   ]
  },
  {
   "cell_type": "code",
   "execution_count": 117,
   "metadata": {},
   "outputs": [
    {
     "data": {
      "text/plain": [
       "RandomForestClassifier(max_depth=15, n_estimators=130)"
      ]
     },
     "execution_count": 117,
     "metadata": {},
     "output_type": "execute_result"
    }
   ],
   "source": [
    "best_model.fit(X_train,y_train)"
   ]
  },
  {
   "cell_type": "code",
   "execution_count": 118,
   "metadata": {},
   "outputs": [
    {
     "data": {
      "text/plain": [
       "0.5588516746411484"
      ]
     },
     "execution_count": 118,
     "metadata": {},
     "output_type": "execute_result"
    }
   ],
   "source": [
    "best_model.score(X_test,y_test)"
   ]
  },
  {
   "cell_type": "code",
   "execution_count": 119,
   "metadata": {},
   "outputs": [],
   "source": [
    "best_model = model.best_estimator_"
   ]
  },
  {
   "cell_type": "code",
   "execution_count": 120,
   "metadata": {},
   "outputs": [],
   "source": [
    "X_train,X_test,y_train,y_test = train_test_split(X,y,random_state=0)"
   ]
  },
  {
   "cell_type": "code",
   "execution_count": 121,
   "metadata": {},
   "outputs": [
    {
     "data": {
      "text/plain": [
       "RandomForestClassifier(max_depth=15, n_estimators=130)"
      ]
     },
     "execution_count": 121,
     "metadata": {},
     "output_type": "execute_result"
    }
   ],
   "source": [
    "best_model.fit(X_train,y_train)"
   ]
  },
  {
   "cell_type": "code",
   "execution_count": 122,
   "metadata": {},
   "outputs": [],
   "source": [
    "y_pred = best_model.predict(X_test)"
   ]
  },
  {
   "cell_type": "code",
   "execution_count": 123,
   "metadata": {},
   "outputs": [
    {
     "name": "stdout",
     "output_type": "stream",
     "text": [
      "              precision    recall  f1-score   support\n",
      "\n",
      "           F       0.44      0.38      0.41       316\n",
      "           I       0.73      0.78      0.75       359\n",
      "           M       0.47      0.48      0.48       370\n",
      "\n",
      "    accuracy                           0.56      1045\n",
      "   macro avg       0.54      0.55      0.55      1045\n",
      "weighted avg       0.55      0.56      0.55      1045\n",
      "\n"
     ]
    }
   ],
   "source": [
    "print(classification_report(y_test,y_pred))"
   ]
  },
  {
   "cell_type": "code",
   "execution_count": null,
   "metadata": {},
   "outputs": [],
   "source": []
  },
  {
   "cell_type": "code",
   "execution_count": 1,
   "metadata": {},
   "outputs": [],
   "source": [
    "import os \n",
    "import sys "
   ]
  },
  {
   "cell_type": "code",
   "execution_count": 2,
   "metadata": {},
   "outputs": [],
   "source": [
    "os.environ[\"SPARK_HOME\"] = \"/usr/hdp/current/spark2-client\" \n",
    "os.environ[\"PYLIB\"] = os.environ[\"SPARK_HOME\"] + \"/python/lib\"\n",
    "os.environ[\"PYSPARK_PYTHON\"] = \"/usr/local/anaconda/bin/python\" \n",
    "os.environ[\"PYSPARK_DRIVER_PYTHON\"] = \"/usr/local/anaconda/bin/python\"\n",
    "sys.path.insert(0, os.environ[\"PYLIB\"] +\"/py4j-0.10.4-src.zip\")\n",
    "sys.path.insert(0, os.environ[\"PYLIB\"] +\"/pyspark.zip\")"
   ]
  },
  {
   "cell_type": "code",
   "execution_count": 3,
   "metadata": {},
   "outputs": [],
   "source": [
    "#import Sparksession driver\n",
    "from pyspark.sql import SparkSession\n",
    "spark = SparkSession \\\n",
    "    .builder \\\n",
    "    .appName(\"Classification of abalone Dataset\") \\\n",
    "    .getOrCreate()"
   ]
  },
  {
   "cell_type": "code",
   "execution_count": 4,
   "metadata": {},
   "outputs": [],
   "source": [
    "df = spark.read.csv('abalone.csv',inferSchema=True,header=True)"
   ]
  },
  {
   "cell_type": "code",
   "execution_count": 5,
   "metadata": {},
   "outputs": [
    {
     "name": "stdout",
     "output_type": "stream",
     "text": [
      "+---+------+--------+------+------------+--------------+--------------------------+------------+-----+\n",
      "|Sex|Length|Diameter|Height|Whole weight|Shucked weight|Viscera weightShell weight|Shell weight|Rings|\n",
      "+---+------+--------+------+------------+--------------+--------------------------+------------+-----+\n",
      "|  M| 0.455|   0.365| 0.095|       0.514|        0.2245|                     0.101|        0.15|   15|\n",
      "|  M|  0.35|   0.265|  0.09|      0.2255|        0.0995|                    0.0485|        0.07|    7|\n",
      "|  F|  0.53|    0.42| 0.135|       0.677|        0.2565|                    0.1415|        0.21|    9|\n",
      "|  M|  0.44|   0.365| 0.125|       0.516|        0.2155|                     0.114|       0.155|   10|\n",
      "|  I|  0.33|   0.255|  0.08|       0.205|        0.0895|                    0.0395|       0.055|    7|\n",
      "+---+------+--------+------+------------+--------------+--------------------------+------------+-----+\n",
      "only showing top 5 rows\n",
      "\n"
     ]
    }
   ],
   "source": [
    "df.show(5)"
   ]
  },
  {
   "cell_type": "code",
   "execution_count": 6,
   "metadata": {},
   "outputs": [
    {
     "name": "stdout",
     "output_type": "stream",
     "text": [
      "no. of cells in column Sex with null values: 2\n",
      "no. of cells in column Length with null values: 2\n",
      "no. of cells in column Diameter with null values: 2\n",
      "no. of cells in column Height with null values: 2\n",
      "no. of cells in column Whole weight with null values: 2\n",
      "no. of cells in column Shucked weight with null values: 2\n",
      "no. of cells in column Viscera weightShell weight with null values: 2\n",
      "no. of cells in column Shell weight with null values: 2\n",
      "no. of cells in column Rings with null values: 2\n"
     ]
    }
   ],
   "source": [
    "#Check for missing values\n",
    "for col in df.columns:\n",
    "    print(\"no. of cells in column\", col, \"with null values:\", df.filter(df[col].isNull()).count())"
   ]
  },
  {
   "cell_type": "code",
   "execution_count": 7,
   "metadata": {},
   "outputs": [],
   "source": [
    "data=df.dropna(how='all')"
   ]
  },
  {
   "cell_type": "code",
   "execution_count": 8,
   "metadata": {},
   "outputs": [
    {
     "name": "stdout",
     "output_type": "stream",
     "text": [
      "no. of cells in column Sex with null values: 0\n",
      "no. of cells in column Length with null values: 0\n",
      "no. of cells in column Diameter with null values: 0\n",
      "no. of cells in column Height with null values: 0\n",
      "no. of cells in column Whole weight with null values: 0\n",
      "no. of cells in column Shucked weight with null values: 0\n",
      "no. of cells in column Viscera weightShell weight with null values: 0\n",
      "no. of cells in column Shell weight with null values: 0\n",
      "no. of cells in column Rings with null values: 0\n"
     ]
    }
   ],
   "source": [
    "for col in data.columns:\n",
    "    print(\"no. of cells in column\", col, \"with null values:\", data.filter(data[col].isNull()).count())"
   ]
  },
  {
   "cell_type": "code",
   "execution_count": 9,
   "metadata": {},
   "outputs": [
    {
     "name": "stdout",
     "output_type": "stream",
     "text": [
      "+---+------+--------+------+------------+--------------+--------------------------+------------+-----+-----------+--------------+----------------+--------------+--------------------+----------------------+----------------------------------+--------------------+-------------+\n",
      "|Sex|Length|Diameter|Height|Whole weight|Shucked weight|Viscera weightShell weight|Shell weight|Rings|Sex_encoded|Length_encoded|Diameter_encoded|Height_encoded|Whole weight_encoded|Shucked weight_encoded|Viscera weightShell weight_encoded|Shell weight_encoded|Rings_encoded|\n",
      "+---+------+--------+------+------------+--------------+--------------------------+------------+-----+-----------+--------------+----------------+--------------+--------------------+----------------------+----------------------------------+--------------------+-------------+\n",
      "|  M| 0.455|   0.365| 0.095|       0.514|        0.2245|                     0.101|        0.15|   15|        0.0|          42.0|            33.0|          20.0|                91.0|                 598.0|                             577.0|                35.0|         10.0|\n",
      "|  M|  0.35|   0.265|  0.09|      0.2255|        0.0995|                    0.0485|        0.07|    7|        0.0|          54.0|            47.0|          16.0|                68.0|                 418.0|                             361.0|                12.0|          4.0|\n",
      "|  F|  0.53|    0.42| 0.135|       0.677|        0.2565|                    0.1415|        0.21|    9|        2.0|          12.0|            11.0|           7.0|               964.0|                 314.0|                              22.0|                28.0|          0.0|\n",
      "|  M|  0.44|   0.365| 0.125|       0.516|        0.2155|                     0.114|       0.155|   10|        0.0|          32.0|            33.0|           5.0|               360.0|                 344.0|                             169.0|                24.0|          1.0|\n",
      "|  I|  0.33|   0.255|  0.08|       0.205|        0.0895|                    0.0395|       0.055|    7|        1.0|          69.0|            59.0|          22.0|               362.0|                 663.0|                             113.0|                56.0|          4.0|\n",
      "|  I| 0.425|     0.3| 0.095|      0.3515|         0.141|                    0.0775|        0.12|    8|        1.0|          48.0|            38.0|          20.0|               376.0|                 517.0|                             476.0|                14.0|          2.0|\n",
      "|  F|  0.53|   0.415|  0.15|      0.7775|         0.237|                    0.1415|        0.33|   20|        2.0|          12.0|            30.0|           0.0|               389.0|                  48.0|                              22.0|                41.0|         16.0|\n",
      "|  F| 0.545|   0.425| 0.125|       0.768|         0.294|                    0.1495|        0.26|   16|        2.0|          29.0|            12.0|           5.0|               202.0|                 411.0|                             296.0|                16.0|         11.0|\n",
      "|  M| 0.475|    0.37| 0.125|      0.5095|        0.2165|                    0.1125|       0.165|    9|        0.0|          19.0|            32.0|           5.0|               991.0|                  16.0|                             127.0|                55.0|          0.0|\n",
      "|  F|  0.55|    0.44|  0.15|      0.8945|        0.3145|                     0.151|        0.32|   19|        2.0|           1.0|             8.0|           0.0|               836.0|                 493.0|                             393.0|                21.0|         15.0|\n",
      "|  F| 0.525|    0.38|  0.14|      0.6065|         0.194|                    0.1475|        0.21|   14|        2.0|          10.0|            18.0|           1.0|               625.0|                  53.0|                             647.0|                28.0|          8.0|\n",
      "|  M|  0.43|    0.35|  0.11|       0.406|        0.1675|                     0.081|       0.135|   10|        0.0|          53.0|            15.0|          13.0|               121.0|                  46.0|                              50.0|                26.0|          1.0|\n",
      "|  M|  0.49|    0.38| 0.135|      0.5415|        0.2175|                     0.095|        0.19|   11|        0.0|          39.0|            18.0|           7.0|               282.0|                 207.0|                             219.0|                22.0|          3.0|\n",
      "|  F| 0.535|   0.405| 0.145|      0.6845|        0.2725|                     0.171|       0.205|   10|        2.0|          30.0|            23.0|           8.0|              2374.0|                 553.0|                              28.0|                47.0|          1.0|\n",
      "|  F|  0.47|   0.355|   0.1|      0.4755|        0.1675|                    0.0805|       0.185|   10|        2.0|          25.0|            21.0|          12.0|               600.0|                  46.0|                             735.0|                 3.0|          1.0|\n",
      "|  M|   0.5|     0.4|  0.13|      0.6645|         0.258|                     0.133|        0.24|   12|        0.0|           6.0|             2.0|           9.0|               783.0|                 392.0|                             199.0|                13.0|          5.0|\n",
      "|  I| 0.355|    0.28| 0.085|      0.2905|         0.095|                    0.0395|       0.115|    7|        1.0|          72.0|            42.0|          23.0|               273.0|                 193.0|                             113.0|                57.0|          4.0|\n",
      "|  F|  0.44|    0.34|   0.1|       0.451|         0.188|                     0.087|        0.13|   10|        2.0|          32.0|            37.0|          12.0|               990.0|                 175.0|                             152.0|                50.0|          1.0|\n",
      "|  M| 0.365|   0.295|  0.08|      0.2555|         0.097|                     0.043|         0.1|    7|        0.0|          76.0|            69.0|          22.0|              1292.0|                   2.0|                             364.0|                43.0|          4.0|\n",
      "|  M|  0.45|    0.32|   0.1|       0.381|        0.1705|                     0.075|       0.115|    9|        0.0|          26.0|            53.0|          12.0|              1839.0|                 244.0|                             321.0|                57.0|          0.0|\n",
      "+---+------+--------+------+------------+--------------+--------------------------+------------+-----+-----------+--------------+----------------+--------------+--------------------+----------------------+----------------------------------+--------------------+-------------+\n",
      "only showing top 20 rows\n",
      "\n"
     ]
    }
   ],
   "source": [
    "#Label encoder\n",
    "from pyspark.ml.feature import StringIndexer\n",
    "indexed = data\n",
    "for col in data.columns:\n",
    "    stringIndexer = StringIndexer(inputCol=col, outputCol=col+\"_encoded\")\n",
    "    indexed = stringIndexer.fit(indexed).transform(indexed)\n",
    "indexed.show()"
   ]
  },
  {
   "cell_type": "code",
   "execution_count": 10,
   "metadata": {},
   "outputs": [
    {
     "name": "stdout",
     "output_type": "stream",
     "text": [
      "+--------------------+\n",
      "|            features|\n",
      "+--------------------+\n",
      "|[42.0,20.0,91.0,5...|\n",
      "|[54.0,16.0,68.0,4...|\n",
      "|[12.0,7.0,964.0,3...|\n",
      "|[32.0,5.0,360.0,3...|\n",
      "|[69.0,22.0,362.0,...|\n",
      "+--------------------+\n",
      "only showing top 5 rows\n",
      "\n"
     ]
    }
   ],
   "source": [
    "#all the independent variables need to be packed into one column of vector type\n",
    "from pyspark.ml.feature import VectorAssembler\n",
    "assembler = VectorAssembler(inputCols=[\"Length_encoded\",\"Height_encoded\",\"Whole weight_encoded\",\"Shucked weight_encoded\",\"Viscera weightShell weight_encoded\",\"Shell weight_encoded\",\"Rings_encoded\"], \n",
    "                            outputCol=\"features\")\n",
    "feature_vec=assembler.transform(indexed)\n",
    "feature_vec.select(\"features\").show(5)"
   ]
  },
  {
   "cell_type": "code",
   "execution_count": 11,
   "metadata": {},
   "outputs": [
    {
     "name": "stdout",
     "output_type": "stream",
     "text": [
      "+-----------+-----+\n",
      "|Sex_encoded|count|\n",
      "+-----------+-----+\n",
      "|        0.0| 1528|\n",
      "|        1.0| 1342|\n",
      "|        2.0| 1307|\n",
      "+-----------+-----+\n",
      "\n"
     ]
    }
   ],
   "source": [
    "#Count of target classes\n",
    "feature_vec.groupBy('Sex_encoded').count().show()\n",
    "#there is data imbalance"
   ]
  },
  {
   "cell_type": "code",
   "execution_count": 12,
   "metadata": {},
   "outputs": [],
   "source": [
    "# Split the data into train and test sets\n",
    "train_data, test_data = feature_vec.randomSplit([.75,.25],seed=0)"
   ]
  },
  {
   "cell_type": "code",
   "execution_count": 13,
   "metadata": {},
   "outputs": [
    {
     "name": "stdout",
     "output_type": "stream",
     "text": [
      "root\n",
      " |-- Sex: string (nullable = true)\n",
      " |-- Length: double (nullable = true)\n",
      " |-- Diameter: double (nullable = true)\n",
      " |-- Height: double (nullable = true)\n",
      " |-- Whole weight: double (nullable = true)\n",
      " |-- Shucked weight: double (nullable = true)\n",
      " |-- Viscera weightShell weight: double (nullable = true)\n",
      " |-- Shell weight: double (nullable = true)\n",
      " |-- Rings: integer (nullable = true)\n",
      " |-- Sex_encoded: double (nullable = true)\n",
      " |-- Length_encoded: double (nullable = true)\n",
      " |-- Diameter_encoded: double (nullable = true)\n",
      " |-- Height_encoded: double (nullable = true)\n",
      " |-- Whole weight_encoded: double (nullable = true)\n",
      " |-- Shucked weight_encoded: double (nullable = true)\n",
      " |-- Viscera weightShell weight_encoded: double (nullable = true)\n",
      " |-- Shell weight_encoded: double (nullable = true)\n",
      " |-- Rings_encoded: double (nullable = true)\n",
      " |-- features: vector (nullable = true)\n",
      " |-- rawPrediction: vector (nullable = true)\n",
      " |-- probability: vector (nullable = true)\n",
      " |-- prediction: double (nullable = true)\n",
      "\n"
     ]
    }
   ],
   "source": [
    "from pyspark.ml.classification import LogisticRegression\n",
    "\n",
    "# Create initial LogisticRegression model\n",
    "lr = LogisticRegression(labelCol=\"Sex_encoded\", featuresCol=\"features\",  \n",
    "                        maxIter=100, regParam=0.0001, family=\"multinomial\",  \n",
    "                        elasticNetParam=0.0)\n",
    "\n",
    "# Train model with Training Data\n",
    "lrModel = lr.fit(train_data)\n",
    "predictions = lrModel.transform(test_data)\n",
    "predictions.printSchema()"
   ]
  },
  {
   "cell_type": "code",
   "execution_count": 14,
   "metadata": {},
   "outputs": [
    {
     "name": "stdout",
     "output_type": "stream",
     "text": [
      "+-----------+----------+\n",
      "|Sex_encoded|prediction|\n",
      "+-----------+----------+\n",
      "|        2.0|       1.0|\n",
      "|        2.0|       1.0|\n",
      "|        2.0|       1.0|\n",
      "|        2.0|       1.0|\n",
      "|        2.0|       1.0|\n",
      "|        2.0|       0.0|\n",
      "|        2.0|       1.0|\n",
      "|        2.0|       1.0|\n",
      "|        2.0|       1.0|\n",
      "|        2.0|       1.0|\n",
      "|        2.0|       1.0|\n",
      "|        2.0|       0.0|\n",
      "|        2.0|       1.0|\n",
      "|        2.0|       1.0|\n",
      "|        2.0|       0.0|\n",
      "|        2.0|       1.0|\n",
      "|        2.0|       1.0|\n",
      "|        2.0|       1.0|\n",
      "|        2.0|       1.0|\n",
      "|        2.0|       1.0|\n",
      "+-----------+----------+\n",
      "only showing top 20 rows\n",
      "\n"
     ]
    }
   ],
   "source": [
    "predictions.select('Sex_encoded','prediction').show()"
   ]
  },
  {
   "cell_type": "code",
   "execution_count": 15,
   "metadata": {},
   "outputs": [
    {
     "data": {
      "text/plain": [
       "0.4837758112094395"
      ]
     },
     "execution_count": 15,
     "metadata": {},
     "output_type": "execute_result"
    }
   ],
   "source": [
    "from pyspark.ml.evaluation import MulticlassClassificationEvaluator\n",
    "\n",
    "evaluator = MulticlassClassificationEvaluator(predictionCol='prediction', labelCol='Sex_encoded', metricName='accuracy')\n",
    "evaluator.evaluate(predictions)"
   ]
  },
  {
   "cell_type": "code",
   "execution_count": 16,
   "metadata": {},
   "outputs": [
    {
     "data": {
      "text/plain": [
       "0.4594455745072952"
      ]
     },
     "execution_count": 16,
     "metadata": {},
     "output_type": "execute_result"
    }
   ],
   "source": [
    "evaluator = MulticlassClassificationEvaluator(predictionCol='prediction', labelCol='Sex_encoded', metricName='f1')\n",
    "evaluator.evaluate(predictions)"
   ]
  },
  {
   "cell_type": "code",
   "execution_count": 17,
   "metadata": {},
   "outputs": [
    {
     "name": "stdout",
     "output_type": "stream",
     "text": [
      "+-----------+-----+\n",
      "|Sex_encoded|count|\n",
      "+-----------+-----+\n",
      "|        0.0|  386|\n",
      "|        1.0|  323|\n",
      "|        2.0|  308|\n",
      "+-----------+-----+\n",
      "\n"
     ]
    }
   ],
   "source": [
    "predictions.groupBy('Sex_encoded').count().show()"
   ]
  },
  {
   "cell_type": "code",
   "execution_count": 18,
   "metadata": {},
   "outputs": [],
   "source": [
    "#Grid Search\n",
    "from pyspark.ml.tuning import ParamGridBuilder, CrossValidator\n",
    "\n",
    "paramGrid = (ParamGridBuilder()\\\n",
    "             .addGrid(lr.regParam,[0.001,0.01,0.1,1])\\\n",
    "             .addGrid(lr.elasticNetParam,[0.0,0.5,1.0])\\\n",
    "             .build())\n",
    "\n",
    "# Create 4-fold CrossValidator\n",
    "cv = CrossValidator(estimator=lr, estimatorParamMaps=paramGrid, evaluator=evaluator, numFolds=4)\n",
    "\n",
    "cvModel = cv.fit(train_data)"
   ]
  },
  {
   "cell_type": "code",
   "execution_count": 19,
   "metadata": {},
   "outputs": [
    {
     "data": {
      "text/plain": [
       "[(0.435413257759371,\n",
       "  {Param(parent='LogisticRegression_4abe904698e4a3f9d3df', name='regParam', doc='regularization parameter (>= 0).'): 0.001,\n",
       "   Param(parent='LogisticRegression_4abe904698e4a3f9d3df', name='elasticNetParam', doc='the ElasticNet mixing parameter, in range [0, 1]. For alpha = 0, the penalty is an L2 penalty. For alpha = 1, it is an L1 penalty.'): 0.0}),\n",
       " (0.43486233352356063,\n",
       "  {Param(parent='LogisticRegression_4abe904698e4a3f9d3df', name='regParam', doc='regularization parameter (>= 0).'): 0.001,\n",
       "   Param(parent='LogisticRegression_4abe904698e4a3f9d3df', name='elasticNetParam', doc='the ElasticNet mixing parameter, in range [0, 1]. For alpha = 0, the penalty is an L2 penalty. For alpha = 1, it is an L1 penalty.'): 0.5}),\n",
       " (0.4376947037442547,\n",
       "  {Param(parent='LogisticRegression_4abe904698e4a3f9d3df', name='regParam', doc='regularization parameter (>= 0).'): 0.001,\n",
       "   Param(parent='LogisticRegression_4abe904698e4a3f9d3df', name='elasticNetParam', doc='the ElasticNet mixing parameter, in range [0, 1]. For alpha = 0, the penalty is an L2 penalty. For alpha = 1, it is an L1 penalty.'): 1.0}),\n",
       " (0.4334047881035826,\n",
       "  {Param(parent='LogisticRegression_4abe904698e4a3f9d3df', name='regParam', doc='regularization parameter (>= 0).'): 0.01,\n",
       "   Param(parent='LogisticRegression_4abe904698e4a3f9d3df', name='elasticNetParam', doc='the ElasticNet mixing parameter, in range [0, 1]. For alpha = 0, the penalty is an L2 penalty. For alpha = 1, it is an L1 penalty.'): 0.0}),\n",
       " (0.41130725063389695,\n",
       "  {Param(parent='LogisticRegression_4abe904698e4a3f9d3df', name='regParam', doc='regularization parameter (>= 0).'): 0.01,\n",
       "   Param(parent='LogisticRegression_4abe904698e4a3f9d3df', name='elasticNetParam', doc='the ElasticNet mixing parameter, in range [0, 1]. For alpha = 0, the penalty is an L2 penalty. For alpha = 1, it is an L1 penalty.'): 0.5}),\n",
       " (0.39503478468261766,\n",
       "  {Param(parent='LogisticRegression_4abe904698e4a3f9d3df', name='regParam', doc='regularization parameter (>= 0).'): 0.01,\n",
       "   Param(parent='LogisticRegression_4abe904698e4a3f9d3df', name='elasticNetParam', doc='the ElasticNet mixing parameter, in range [0, 1]. For alpha = 0, the penalty is an L2 penalty. For alpha = 1, it is an L1 penalty.'): 1.0}),\n",
       " (0.41611430066611765,\n",
       "  {Param(parent='LogisticRegression_4abe904698e4a3f9d3df', name='regParam', doc='regularization parameter (>= 0).'): 0.1,\n",
       "   Param(parent='LogisticRegression_4abe904698e4a3f9d3df', name='elasticNetParam', doc='the ElasticNet mixing parameter, in range [0, 1]. For alpha = 0, the penalty is an L2 penalty. For alpha = 1, it is an L1 penalty.'): 0.0}),\n",
       " (0.37176457628237647,\n",
       "  {Param(parent='LogisticRegression_4abe904698e4a3f9d3df', name='regParam', doc='regularization parameter (>= 0).'): 0.1,\n",
       "   Param(parent='LogisticRegression_4abe904698e4a3f9d3df', name='elasticNetParam', doc='the ElasticNet mixing parameter, in range [0, 1]. For alpha = 0, the penalty is an L2 penalty. For alpha = 1, it is an L1 penalty.'): 0.5}),\n",
       " (0.3348573821030414,\n",
       "  {Param(parent='LogisticRegression_4abe904698e4a3f9d3df', name='regParam', doc='regularization parameter (>= 0).'): 0.1,\n",
       "   Param(parent='LogisticRegression_4abe904698e4a3f9d3df', name='elasticNetParam', doc='the ElasticNet mixing parameter, in range [0, 1]. For alpha = 0, the penalty is an L2 penalty. For alpha = 1, it is an L1 penalty.'): 1.0}),\n",
       " (0.3705925880348312,\n",
       "  {Param(parent='LogisticRegression_4abe904698e4a3f9d3df', name='regParam', doc='regularization parameter (>= 0).'): 1,\n",
       "   Param(parent='LogisticRegression_4abe904698e4a3f9d3df', name='elasticNetParam', doc='the ElasticNet mixing parameter, in range [0, 1]. For alpha = 0, the penalty is an L2 penalty. For alpha = 1, it is an L1 penalty.'): 0.0}),\n",
       " (0.19243819011313013,\n",
       "  {Param(parent='LogisticRegression_4abe904698e4a3f9d3df', name='regParam', doc='regularization parameter (>= 0).'): 1,\n",
       "   Param(parent='LogisticRegression_4abe904698e4a3f9d3df', name='elasticNetParam', doc='the ElasticNet mixing parameter, in range [0, 1]. For alpha = 0, the penalty is an L2 penalty. For alpha = 1, it is an L1 penalty.'): 0.5}),\n",
       " (0.19243819011313013,\n",
       "  {Param(parent='LogisticRegression_4abe904698e4a3f9d3df', name='regParam', doc='regularization parameter (>= 0).'): 1,\n",
       "   Param(parent='LogisticRegression_4abe904698e4a3f9d3df', name='elasticNetParam', doc='the ElasticNet mixing parameter, in range [0, 1]. For alpha = 0, the penalty is an L2 penalty. For alpha = 1, it is an L1 penalty.'): 1.0})]"
      ]
     },
     "execution_count": 19,
     "metadata": {},
     "output_type": "execute_result"
    }
   ],
   "source": [
    "list(zip(cvModel.avgMetrics, cvModel.getEstimatorParamMaps()))"
   ]
  },
  {
   "cell_type": "code",
   "execution_count": 20,
   "metadata": {},
   "outputs": [
    {
     "data": {
      "text/plain": [
       "(0.4376947037442547,\n",
       " {Param(parent='LogisticRegression_4abe904698e4a3f9d3df', name='regParam', doc='regularization parameter (>= 0).'): 0.001,\n",
       "  Param(parent='LogisticRegression_4abe904698e4a3f9d3df', name='elasticNetParam', doc='the ElasticNet mixing parameter, in range [0, 1]. For alpha = 0, the penalty is an L2 penalty. For alpha = 1, it is an L1 penalty.'): 1.0})"
      ]
     },
     "execution_count": 20,
     "metadata": {},
     "output_type": "execute_result"
    }
   ],
   "source": [
    "#Best Model Params\n",
    "score_params_list = list(zip(cvModel.avgMetrics, cvModel.getEstimatorParamMaps()))\n",
    "max(score_params_list,key=lambda item:item[0])"
   ]
  },
  {
   "cell_type": "code",
   "execution_count": 21,
   "metadata": {},
   "outputs": [],
   "source": [
    "predictions = cvModel.bestModel.transform(test_data)"
   ]
  },
  {
   "cell_type": "code",
   "execution_count": 22,
   "metadata": {},
   "outputs": [
    {
     "data": {
      "text/plain": [
       "0.46070774663183733"
      ]
     },
     "execution_count": 22,
     "metadata": {},
     "output_type": "execute_result"
    }
   ],
   "source": [
    "evaluator.evaluate(predictions)"
   ]
  },
  {
   "attachments": {
    "image.png": {
     "image/png": "[encoded data removed]"
    }
   },
   "cell_type": "markdown",
   "metadata": {},
   "source": [
    "\n",
    "Conclusion - Goal isto predict sex of the abalone based on their physical characteristics but the\n",
    "model is not good because of the number of instances per class in the dataset is less to the model to learn the patterns\n",
    "between the features.After trying out all the different models i found randomforest seems best among rest of it\n",
    "\n",
    "\n",
    "\n",
    "![image.png](attachment:image.png)\n",
    "\n",
    "\n",
    "\n",
    "\n"
   ]
  }
 ],
 "metadata": {
  "kernelspec": {
   "display_name": "Python 3",
   "language": "python",
   "name": "python3"
  },
  "language_info": {
   "codemirror_mode": {
    "name": "ipython",
    "version": 3
   },
   "file_extension": ".py",
   "mimetype": "text/x-python",
   "name": "python",
   "nbconvert_exporter": "python",
   "pygments_lexer": "ipython3",
   "version": "3.8.5"
  },
  "toc": {
   "base_numbering": 1,
   "nav_menu": {},
   "number_sections": true,
   "sideBar": true,
   "skip_h1_title": false,
   "title_cell": "Table of Contents",
   "title_sidebar": "Contents",
   "toc_cell": false,
   "toc_position": {},
   "toc_section_display": true,
   "toc_window_display": false
  }
 },
 "nbformat": 4,
 "nbformat_minor": 4
}
